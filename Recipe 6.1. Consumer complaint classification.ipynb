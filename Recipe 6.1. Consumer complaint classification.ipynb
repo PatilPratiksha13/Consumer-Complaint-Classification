{
 "cells": [
  {
   "cell_type": "markdown",
   "metadata": {},
   "source": [
    "Implementing Industry Applications\n",
    "--\n",
    "\n",
    "Recipe 6.1. Consumer complaint classification\n",
    "--\n",
    "In this section, we are going to implement end-to-end solutions for \n",
    "\"Consumer complaint classification\" using NLP."
   ]
  },
  {
   "cell_type": "markdown",
   "metadata": {},
   "source": [
    "Implementing Multiclass Classification\n",
    "--\n",
    "Let’s understand how to do multiclass classification for text data in Python\n",
    "through solving Consumer complaint classifications for the finance\n",
    "industry.\n",
    "\n",
    "Problem\n",
    "--\n",
    "Each week the Consumer Financial Protection Bureau sends thousands of consumers’ complaints about financial products and services to companies for a response. Classify those consumer complaints into the product category it belongs to using the description of the complaint.\n",
    "\n",
    "Solution\n",
    "--\n",
    "The goal of the project is to classify the complaint into a specific product\n",
    "category. Since it has multiple categories, it becomes a multiclass\n",
    "classification that can be solved through many of the machine learning\n",
    "algorithms.\n",
    "\n",
    "Once the algorithm is in place, whenever there is a new complaint,\n",
    "we can easily categorize it and can then be redirected to the concerned\n",
    "person. This will save a lot of time because we are minimizing the human\n",
    "intervention to decide whom this complaint should go to."
   ]
  },
  {
   "cell_type": "raw",
   "metadata": {},
   "source": [
    "Let’s explore the data and build classification model using many\n",
    "machine learning algorithms and see which one gives better results."
   ]
  },
  {
   "cell_type": "raw",
   "metadata": {},
   "source": [
    "Getting the data from Kaggle\n",
    "\n",
    "Go to the below link and download the data.\n",
    "\n",
    "https://www.kaggle.com/subhassing/exploring-consumer-complaint-data"
   ]
  },
  {
   "cell_type": "code",
   "execution_count": 1,
   "metadata": {
    "collapsed": true
   },
   "outputs": [],
   "source": [
    "# Importing all the libraries:\n",
    "import numpy as np     # linear algebra\n",
    "import pandas as pd    # data processing, CSV file I/O (e.g. pd.read_csv)\n",
    "import matplotlib.pyplot as plt\n",
    "import string\n",
    "from nltk.stem import SnowballStemmer\n",
    "from nltk.corpus import stopwords\n",
    "from sklearn.feature_extraction.text import TfidfVectorizer\n",
    "from sklearn.model_selection import train_test_split\n",
    "\n",
    "import os\n",
    "from textblob import TextBlob\n",
    "from nltk.stem import PorterStemmer\n",
    "from textblob import Word\n",
    "from sklearn.feature_extraction.text import CountVectorizer,TfidfVectorizer\n",
    "\n",
    "import sklearn.feature_extraction.text as text\n",
    "from sklearn import model_selection, preprocessing,linear_model, naive_bayes, metrics, svm\n",
    "from sklearn.naive_bayes import MultinomialNB\n",
    "from sklearn.linear_model import LogisticRegression\n",
    "from sklearn.ensemble import RandomForestClassifier\n",
    "from sklearn.svm import LinearSVC\n",
    "from sklearn.model_selection import cross_val_score\n",
    "from io import StringIO\n",
    "import seaborn as sns"
   ]
  },
  {
   "cell_type": "code",
   "execution_count": null,
   "metadata": {
    "collapsed": true
   },
   "outputs": [],
   "source": [
    "# Importing the data\n",
    "# Import the data that was downloaded in the last step:\n",
    "Data = pd.read_csv(\"C:\\\\Users\\\\DELL\\\\suven\\\\suven-Adv-ML\\\\datasets\\\\Consumer_Complaints.csv\",encoding='latin-1')\n",
    "Data.info()\n",
    "Data.tail()"
   ]
  },
  {
   "cell_type": "markdown",
   "metadata": {},
   "source": [
    "![dtypes_consumer_complaints](images/dtypes_consumer_complaints.png 'dtypes_consumer_complaints')"
   ]
  },
  {
   "cell_type": "code",
   "execution_count": 5,
   "metadata": {
    "collapsed": false
   },
   "outputs": [
    {
     "data": {
      "text/html": [
       "<div>\n",
       "<style scoped>\n",
       "    .dataframe tbody tr th:only-of-type {\n",
       "        vertical-align: middle;\n",
       "    }\n",
       "\n",
       "    .dataframe tbody tr th {\n",
       "        vertical-align: top;\n",
       "    }\n",
       "\n",
       "    .dataframe thead th {\n",
       "        text-align: right;\n",
       "    }\n",
       "</style>\n",
       "<table border=\"1\" class=\"dataframe\">\n",
       "  <thead>\n",
       "    <tr style=\"text-align: right;\">\n",
       "      <th></th>\n",
       "      <th>product</th>\n",
       "      <th>consumer_complaint_narrative</th>\n",
       "    </tr>\n",
       "  </thead>\n",
       "  <tbody>\n",
       "    <tr>\n",
       "      <td>190126</td>\n",
       "      <td>Debt collection</td>\n",
       "      <td>XXXX has claimed I owe them {$27.00} for XXXX ...</td>\n",
       "    </tr>\n",
       "    <tr>\n",
       "      <td>190135</td>\n",
       "      <td>Consumer Loan</td>\n",
       "      <td>Due to inconsistencies in the amount owed that...</td>\n",
       "    </tr>\n",
       "    <tr>\n",
       "      <td>190155</td>\n",
       "      <td>Mortgage</td>\n",
       "      <td>In XX/XX/XXXX my wages that I earned at my job...</td>\n",
       "    </tr>\n",
       "    <tr>\n",
       "      <td>190207</td>\n",
       "      <td>Mortgage</td>\n",
       "      <td>I have an open and current mortgage with Chase...</td>\n",
       "    </tr>\n",
       "    <tr>\n",
       "      <td>190208</td>\n",
       "      <td>Mortgage</td>\n",
       "      <td>XXXX was submitted XX/XX/XXXX. At the time I s...</td>\n",
       "    </tr>\n",
       "  </tbody>\n",
       "</table>\n",
       "</div>"
      ],
      "text/plain": [
       "                product                       consumer_complaint_narrative\n",
       "190126  Debt collection  XXXX has claimed I owe them {$27.00} for XXXX ...\n",
       "190135    Consumer Loan  Due to inconsistencies in the amount owed that...\n",
       "190155         Mortgage  In XX/XX/XXXX my wages that I earned at my job...\n",
       "190207         Mortgage  I have an open and current mortgage with Chase...\n",
       "190208         Mortgage  XXXX was submitted XX/XX/XXXX. At the time I s..."
      ]
     },
     "execution_count": 5,
     "metadata": {},
     "output_type": "execute_result"
    }
   ],
   "source": [
    "# Selecting required columns and rows\n",
    "Data = Data[['product', 'consumer_complaint_narrative']]\n",
    "Data = Data[pd.notnull(Data['consumer_complaint_narrative'])]\n",
    "\n",
    "# See top 5 rows\n",
    "Data.head()"
   ]
  },
  {
   "cell_type": "code",
   "execution_count": 12,
   "metadata": {
    "collapsed": false
   },
   "outputs": [
    {
     "data": {
      "text/html": [
       "<div>\n",
       "<style scoped>\n",
       "    .dataframe tbody tr th:only-of-type {\n",
       "        vertical-align: middle;\n",
       "    }\n",
       "\n",
       "    .dataframe tbody tr th {\n",
       "        vertical-align: top;\n",
       "    }\n",
       "\n",
       "    .dataframe thead th {\n",
       "        text-align: right;\n",
       "    }\n",
       "</style>\n",
       "<table border=\"1\" class=\"dataframe\">\n",
       "  <thead>\n",
       "    <tr style=\"text-align: right;\">\n",
       "      <th></th>\n",
       "      <th>product</th>\n",
       "      <th>consumer_complaint_narrative</th>\n",
       "      <th>category_id</th>\n",
       "    </tr>\n",
       "  </thead>\n",
       "  <tbody>\n",
       "    <tr>\n",
       "      <td>190126</td>\n",
       "      <td>Debt collection</td>\n",
       "      <td>XXXX has claimed I owe them {$27.00} for XXXX ...</td>\n",
       "      <td>0</td>\n",
       "    </tr>\n",
       "    <tr>\n",
       "      <td>190135</td>\n",
       "      <td>Consumer Loan</td>\n",
       "      <td>Due to inconsistencies in the amount owed that...</td>\n",
       "      <td>1</td>\n",
       "    </tr>\n",
       "    <tr>\n",
       "      <td>190155</td>\n",
       "      <td>Mortgage</td>\n",
       "      <td>In XX/XX/XXXX my wages that I earned at my job...</td>\n",
       "      <td>2</td>\n",
       "    </tr>\n",
       "    <tr>\n",
       "      <td>190207</td>\n",
       "      <td>Mortgage</td>\n",
       "      <td>I have an open and current mortgage with Chase...</td>\n",
       "      <td>2</td>\n",
       "    </tr>\n",
       "    <tr>\n",
       "      <td>190208</td>\n",
       "      <td>Mortgage</td>\n",
       "      <td>XXXX was submitted XX/XX/XXXX. At the time I s...</td>\n",
       "      <td>2</td>\n",
       "    </tr>\n",
       "  </tbody>\n",
       "</table>\n",
       "</div>"
      ],
      "text/plain": [
       "                product                       consumer_complaint_narrative  \\\n",
       "190126  Debt collection  XXXX has claimed I owe them {$27.00} for XXXX ...   \n",
       "190135    Consumer Loan  Due to inconsistencies in the amount owed that...   \n",
       "190155         Mortgage  In XX/XX/XXXX my wages that I earned at my job...   \n",
       "190207         Mortgage  I have an open and current mortgage with Chase...   \n",
       "190208         Mortgage  XXXX was submitted XX/XX/XXXX. At the time I s...   \n",
       "\n",
       "        category_id  \n",
       "190126            0  \n",
       "190135            1  \n",
       "190155            2  \n",
       "190207            2  \n",
       "190208            2  "
      ]
     },
     "execution_count": 12,
     "metadata": {},
     "output_type": "execute_result"
    }
   ],
   "source": [
    "# Factorizing the product-category column\n",
    "#similar to label encoding\n",
    "\n",
    "Data['category_id'] =  Data['product'].factorize()[0]\n",
    "Data.head()\n"
   ]
  },
  {
   "cell_type": "code",
   "execution_count": 15,
   "metadata": {
    "collapsed": false
   },
   "outputs": [
    {
     "data": {
      "text/plain": [
       "product\n",
       "Bank account or service     5711\n",
       "Consumer Loan               3678\n",
       "Credit card                 7929\n",
       "Credit reporting           12526\n",
       "Debt collection            17552\n",
       "Money transfers              666\n",
       "Mortgage                   14919\n",
       "Other financial service      110\n",
       "Payday loan                  726\n",
       "Prepaid card                 861\n",
       "Student loan                2128\n",
       "Name: product, dtype: int64"
      ]
     },
     "execution_count": 15,
     "metadata": {},
     "output_type": "execute_result"
    }
   ],
   "source": [
    "# Check the distriution of complaints by category\n",
    "\n",
    "Data.groupby('product').product.count()\n",
    "\n",
    "#or\n",
    "#Data.groupby('product').consumer_complaint_narrative.count()"
   ]
  },
  {
   "cell_type": "code",
   "execution_count": 17,
   "metadata": {
    "collapsed": false
   },
   "outputs": [
    {
     "data": {
      "image/png": "[encoded data removed]",
      "text/plain": [
       "<Figure size 576x432 with 1 Axes>"
      ]
     },
     "metadata": {
      "needs_background": "light"
     },
     "output_type": "display_data"
    }
   ],
   "source": [
    "# Lets plot it and see\n",
    "fig = plt.figure(figsize=(8,6))\n",
    "Data.groupby('product').product.count().plot.bar(ylim=0)\n",
    "plt.show()"
   ]
  },
  {
   "cell_type": "raw",
   "metadata": {},
   "source": [
    "Please Note : Debt collection and Mortgage have the highest number of complaints registered."
   ]
  },
  {
   "cell_type": "code",
   "execution_count": 22,
   "metadata": {
    "collapsed": true
   },
   "outputs": [],
   "source": [
    "# Splitting the data\n",
    "# Split the data into train and validation:\n",
    "train_x, valid_x, train_y, valid_y = model_selection.train_test_split(Data['consumer_complaint_narrative'], Data['product'])"
   ]
  },
  {
   "cell_type": "code",
   "execution_count": 23,
   "metadata": {
    "collapsed": false
   },
   "outputs": [
    {
     "name": "stdout",
     "output_type": "stream",
     "text": [
      "[2 4 6 4 2]\n",
      "[4 3 3 3 4]\n",
      "  (0, 4967)\t0.25778945715830903\n",
      "  (0, 4966)\t0.18743573873462738\n",
      "  (0, 4922)\t0.027381770830999255\n",
      "  (0, 4921)\t0.06259610518454296\n",
      "  (0, 4911)\t0.0882463321792417\n",
      "  (0, 4895)\t0.020867796907613288\n",
      "  (0, 4890)\t0.026669758552853768\n",
      "  (0, 4884)\t0.02365365894972902\n",
      "  (0, 4881)\t0.07527032843175842\n",
      "  (0, 4874)\t0.05421765740300849\n",
      "  (0, 4859)\t0.028419023770448065\n",
      "  (0, 4836)\t0.04806715323946675\n",
      "  (0, 4774)\t0.027952494165724276\n",
      "  (0, 4678)\t0.0666713730499161\n",
      "  (0, 4676)\t0.050278925061139075\n",
      "  (0, 4618)\t0.08112497333164413\n",
      "  (0, 4528)\t0.10285935314284263\n",
      "  (0, 4517)\t0.07719486865636917\n",
      "  (0, 4503)\t0.10008211463277915\n",
      "  (0, 4489)\t0.035920314903877676\n",
      "  (0, 4486)\t0.03611159753516589\n",
      "  (0, 4474)\t0.10080158885741138\n",
      "  (0, 4466)\t0.032997208050875124\n",
      "  (0, 4464)\t0.05839785108643056\n",
      "  (0, 4462)\t0.1438561763765801\n",
      "  :\t:\n",
      "  (49, 849)\t0.03292182004488993\n",
      "  (49, 747)\t0.04832902661602779\n",
      "  (49, 738)\t0.0348376106186734\n",
      "  (49, 686)\t0.0926994655159109\n",
      "  (49, 682)\t0.02910521529362449\n",
      "  (49, 618)\t0.057797810559909416\n",
      "  (49, 608)\t0.10695133837368907\n",
      "  (49, 583)\t0.017731383467950813\n",
      "  (49, 562)\t0.019114660059632353\n",
      "  (49, 501)\t0.021934611288954322\n",
      "  (49, 494)\t0.029328905910545225\n",
      "  (49, 486)\t0.07483128307532302\n",
      "  (49, 470)\t0.04222991587098922\n",
      "  (49, 464)\t0.04792716069550722\n",
      "  (49, 426)\t0.03445905763745888\n",
      "  (49, 421)\t0.032470649443973584\n",
      "  (49, 420)\t0.11476709962906367\n",
      "  (49, 417)\t0.033223009898089045\n",
      "  (49, 413)\t0.044325374031463236\n",
      "  (49, 339)\t0.04813476580027448\n",
      "  (49, 304)\t0.18408707471585103\n",
      "  (49, 279)\t0.04824890034011263\n",
      "  (49, 274)\t0.03344372610790278\n",
      "  (49, 214)\t0.07303290681031198\n",
      "  (49, 1)\t0.020981143920869947\n"
     ]
    }
   ],
   "source": [
    "# Feature engineering using TF-IDF\n",
    "# Create TF-IDF vectors as we discussed in Chapter (or Part) 4. \n",
    "\n",
    "# Here we consider maximum features to be 5000.\n",
    "\n",
    "encoder = preprocessing.LabelEncoder()\n",
    "train_y = encoder.fit_transform(train_y)\n",
    "valid_y = encoder.transform(valid_y)\n",
    "\n",
    "print(train_y[:5]) #for checking purposse\n",
    "print(valid_y[:5]) #for checking purposse\n",
    "\n",
    "tfidf_vect = TfidfVectorizer(analyzer ='word',token_pattern=r'\\w{1,}',max_features=5000)\n",
    "tfidf_vect.fit(Data['consumer_complaint_narrative'])\n",
    "\n",
    "xtrain_tfidf = tfidf_vect.transform(train_x)\n",
    "xvalid_tfidf = tfidf_vect.transform(valid_x)\n",
    "\n",
    "print(xtrain_tfidf[:50])"
   ]
  },
  {
   "cell_type": "raw",
   "metadata": {},
   "source": [
    "Model building and evaluation\n",
    "-----------------------------\n",
    "Suppose we are building a linear classifier on word-level TF-IDF vectors.\n",
    "\n",
    "We are using default hyper parameters for the classifier. Parameters can be\n",
    "changed like C, max_iter, or solver to obtain better results."
   ]
  },
  {
   "cell_type": "code",
   "execution_count": 26,
   "metadata": {
    "collapsed": false
   },
   "outputs": [
    {
     "name": "stdout",
     "output_type": "stream",
     "text": [
      "Accuracy:  0.84427014728775\n"
     ]
    }
   ],
   "source": [
    "model = linear_model.LogisticRegression().fit(xtrain_tfidf, train_y)\n",
    "# Model summary\n",
    "\n",
    "LogisticRegression(C=1.0, class_weight=None, dual=False, fit_intercept=True, intercept_scaling=1, max_iter=100, multi_class='ovr',\n",
    "n_jobs=1, penalty='l2', random_state=None, solver='liblinear', tol=0.0001, verbose=0, warm_start=False)\n",
    "\n",
    "# Checking accuracy\n",
    "accuracy = metrics.accuracy_score(model.predict(xvalid_tfidf),valid_y)\n",
    "print (\"Accuracy: \", accuracy)"
   ]
  },
  {
   "cell_type": "code",
   "execution_count": 27,
   "metadata": {
    "collapsed": false
   },
   "outputs": [
    {
     "name": "stdout",
     "output_type": "stream",
     "text": [
      "                         precision    recall  f1-score   support\n",
      "\n",
      "        Debt collection       0.83      0.79      0.81      1455\n",
      "          Consumer Loan       0.79      0.55      0.65       902\n",
      "               Mortgage       0.80      0.81      0.81      1961\n",
      "            Credit card       0.85      0.85      0.85      3132\n",
      "       Credit reporting       0.82      0.90      0.86      4386\n",
      "           Student loan       0.73      0.50      0.59       157\n",
      "Bank account or service       0.91      0.96      0.93      3766\n",
      "            Payday loan       0.00      0.00      0.00        35\n",
      "        Money transfers       0.81      0.24      0.37       186\n",
      "Other financial service       0.83      0.57      0.68       215\n",
      "           Prepaid card       0.88      0.77      0.82       507\n",
      "\n",
      "               accuracy                           0.84     16702\n",
      "              macro avg       0.75      0.63      0.67     16702\n",
      "           weighted avg       0.84      0.84      0.84     16702\n",
      "\n"
     ]
    },
    {
     "name": "stderr",
     "output_type": "stream",
     "text": [
      "c:\\users\\dell\\appdata\\local\\programs\\python\\python36\\lib\\site-packages\\sklearn\\metrics\\classification.py:1437: UndefinedMetricWarning: Precision and F-score are ill-defined and being set to 0.0 in labels with no predicted samples.\n",
      "  'precision', 'predicted', average, warn_for)\n"
     ]
    }
   ],
   "source": [
    "# Classification report\n",
    "print(metrics.classification_report(valid_y, model.predict(xvalid_tfidf),\n",
    "                                    target_names=Data['product'].unique()))"
   ]
  },
  {
   "cell_type": "code",
   "execution_count": 32,
   "metadata": {
    "collapsed": false
   },
   "outputs": [
    {
     "data": {
      "image/png": "[encoded data removed]",
      "text/plain": [
       "<Figure size 576x432 with 2 Axes>"
      ]
     },
     "metadata": {
      "needs_background": "light"
     },
     "output_type": "display_data"
    }
   ],
   "source": [
    "#confusion matrix\n",
    "from sklearn.metrics import confusion_matrix\n",
    "conf_mat = confusion_matrix(valid_y, model.predict(xvalid_tfidf))\n",
    "\n",
    "# Vizualizing confusion matrix\n",
    "category_id_df = Data[['product', 'category_id']].drop_duplicates().sort_values('category_id')\n",
    "category_to_id = dict(category_id_df.values)\n",
    "\n",
    "id_to_category = dict(category_id_df[['category_id','product']].values)\n",
    "fig, ax = plt.subplots(figsize=(8,6))\n",
    "sns.heatmap(conf_mat, annot=True, fmt='d', cmap=\"BuPu\", \n",
    "            xticklabels=category_id_df[['product']].values, \n",
    "            yticklabels=category_id_df[['product']].values)\n",
    "plt.ylabel('Actual')\n",
    "plt.xlabel('Predicted')\n",
    "plt.show()"
   ]
  },
  {
   "cell_type": "code",
   "execution_count": 29,
   "metadata": {
    "collapsed": false
   },
   "outputs": [
    {
     "name": "stdout",
     "output_type": "stream",
     "text": [
      "{'Debt collection': 0, 'Consumer Loan': 1, 'Mortgage': 2, 'Credit card': 3, 'Credit reporting': 4, 'Student loan': 5, 'Bank account or service': 6, 'Payday loan': 7, 'Money transfers': 8, 'Other financial service': 9, 'Prepaid card': 10}\n"
     ]
    }
   ],
   "source": [
    "print(category_to_id)"
   ]
  },
  {
   "cell_type": "code",
   "execution_count": 30,
   "metadata": {
    "collapsed": false
   },
   "outputs": [
    {
     "name": "stdout",
     "output_type": "stream",
     "text": [
      "{0: 'Debt collection', 1: 'Consumer Loan', 2: 'Mortgage', 3: 'Credit card', 4: 'Credit reporting', 5: 'Student loan', 6: 'Bank account or service', 7: 'Payday loan', 8: 'Money transfers', 9: 'Other financial service', 10: 'Prepaid card'}\n"
     ]
    }
   ],
   "source": [
    "print(id_to_category)"
   ]
  },
  {
   "cell_type": "markdown",
   "metadata": {},
   "source": [
    "Recommended reading \n",
    "https://www.absentdata.com/python-graphs/create-a-heat-map-with-seaborn/"
   ]
  },
  {
   "cell_type": "raw",
   "metadata": {},
   "source": [
    "The accuracy of 85% is good for a baseline model. Precision and recall\n",
    "look pretty good across the categories except for “Payday loan.” If you look\n",
    "for Payload loan, most of the wrong predictions are Debt collection and\n",
    "Credit card, which might be because of the smaller number of samples in\n",
    "that category. It also sounds like it’s a subcategory of a credit card. \n",
    "\n",
    "We can add these samples to any other group to make the model more stable.\n",
    "\n",
    "Let’s see what prediction looks like for one example."
   ]
  },
  {
   "cell_type": "code",
   "execution_count": 32,
   "metadata": {
    "collapsed": false
   },
   "outputs": [
    {
     "name": "stdout",
     "output_type": "stream",
     "text": [
      "['This company refuses to provide me verification and validation of debtper my right under the FDCPA. I do not believe this debt is mine.']\n",
      " - Predicted as: 'Credit reporting'\n"
     ]
    }
   ],
   "source": [
    "# Prediction example\n",
    "texts = [\"This company refuses to provide me verification and validation of debt\"+ \"per my right under the FDCPA. I do not believe this debt is mine.\"]\n",
    "\n",
    "# type your code here\n",
    "\n",
    "\n",
    "\n"
   ]
  },
  {
   "cell_type": "raw",
   "metadata": {},
   "source": [
    "To increase the accuracy, we can do the following things:\n",
    "    \n",
    "• Reiterate the process with different algorithms like Random Forest, SVM, GBM, \n",
    "Neural Networks, Naive Bayes.\n",
    "\n",
    "• Deep learning techniques like RNN and LSTM \n",
    "(will be discussed in next chapter i.e part 6) can also be used.\n",
    "\n",
    "• In each of these algorithms, there are so many parameters to be tuned to get better results. It can be easily done through Grid search*, which will basically try out all possible combinations and give the best out.\n",
    "\n",
    "*Grid Search -> recall using GridSearch in \"Machine learning-course\" > Scikit-learn"
   ]
  }
 ],
 "metadata": {
  "anaconda-cloud": {},
  "kernelspec": {
   "display_name": "Python [default]",
   "language": "python",
   "name": "python3"
  },
  "language_info": {
   "codemirror_mode": {
    "name": "ipython",
    "version": 3
   },
   "file_extension": ".py",
   "mimetype": "text/x-python",
   "name": "python",
   "nbconvert_exporter": "python",
   "pygments_lexer": "ipython3",
   "version": "3.5.2"
  }
 },
 "nbformat": 4,
 "nbformat_minor": 2
}
